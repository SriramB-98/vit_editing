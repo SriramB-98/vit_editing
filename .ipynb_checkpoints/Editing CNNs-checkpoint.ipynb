{
 "cells": [
  {
   "cell_type": "code",
   "execution_count": 1,
   "id": "20d099a8",
   "metadata": {},
   "outputs": [],
   "source": [
    "from utils import *\n",
    "# from objectnet_test import *\n",
    "from torch.nn.functional import relu\n",
    "seed = 1\n",
    "import matplotlib.pyplot as plt\n",
    "set_seed(seed)\n",
    "torch.set_default_dtype(torch.float32)\n",
    "from collections import defaultdict\n",
    "from sal_resnet import resnet50\n",
    "import pytorch_lightning as pl\n",
    "from datamodules import WaterbirdsDataModule, ImageNet9DataModule\n",
    "from lightning_modules import *\n",
    "from torchvision.datasets import CIFAR100, ImageNet\n",
    "from torchvision import transforms\n",
    "from inspect_utils import *"
   ]
  },
  {
   "cell_type": "code",
   "execution_count": 2,
   "id": "ae65f650",
   "metadata": {},
   "outputs": [],
   "source": [
    "num_workers = 4*torch.cuda.device_count()\n",
    "gpu_size = 256*torch.cuda.device_count()\n",
    "device = torch.device('cuda' if torch.cuda.is_available() else 'cpu')"
   ]
  },
  {
   "cell_type": "code",
   "execution_count": 3,
   "id": "15ecdb9d",
   "metadata": {},
   "outputs": [
    {
     "name": "stdout",
     "output_type": "stream",
     "text": [
      "==> Preparing dataset ImageNet9..\n",
      "==> Preparing dataset ImageNet9..\n",
      "==> Preparing dataset ImageNet9..\n"
     ]
    }
   ],
   "source": [
    "data_module = ImageNet9DataModule(get_masks=True)\n",
    "data_module.setup()\n",
    "batch_size = max(gpu_size, 100)\n",
    "fg_loader = data_module.onlyfg_dataset.make_loaders(num_workers, batch_size, mode='val', shuffle_val=False)\n",
    "bg_loader = data_module.nofg_dataset.make_loaders(num_workers, batch_size, mode='val', shuffle_val=False)\n",
    "orig_loader = data_module.orig_dataset.make_loaders(num_workers,batch_size, mode='val', shuffle_val=False)"
   ]
  },
  {
   "cell_type": "code",
   "execution_count": 4,
   "id": "da898000",
   "metadata": {},
   "outputs": [],
   "source": [
    "activation = {}\n",
    "\n",
    "def read_output(inp, out, name):\n",
    "    if isinstance(out, tuple):\n",
    "        activation[name] = out[0].detach().cpu()\n",
    "    else:\n",
    "        activation[name] = out.detach().cpu()\n",
    "    return\n",
    "\n",
    "def get_hook(name, read_fn, modify_fn=None):\n",
    "    # the hook signature\n",
    "    def hook(model, input, output):\n",
    "        read_fn(input, output, name)\n",
    "        if modify_fn is not None:\n",
    "            output = modify_fn(input, output, name)\n",
    "            read_fn(input, output, name+\"_after\")\n",
    "            return output\n",
    "    return hook"
   ]
  },
  {
   "cell_type": "code",
   "execution_count": 5,
   "id": "1b3c57dc",
   "metadata": {},
   "outputs": [],
   "source": [
    "lightning_model = ImageNet9Predictor.load_from_checkpoint('./models/imagenet9/mtype-resnet50_num_classes-9_lr-1e-05_weight_decay-1e-05/epoch=01-step=1400-orig_val_acc=0.98.ckpt')\n",
    "model = lightning_model.model.to(device)\n",
    "normalizer = lightning_model.normalizer\n",
    "hook_names = ['avgpool', 'layer4']\n",
    "hooks = [getattr(model, hook_name).register_forward_hook(get_hook(hook_name, read_output)) for hook_name in hook_names]\n",
    "_ = model.eval()\n",
    "# for i, layer in enumerate(model.encoder.layers):\n",
    "#     layer.register_forward_hook(get_hook(f\"layer{i}\", read_output))\n",
    "# _=model.encoder.register_forward_hook(get_hook(f\"encoder\", read_output))"
   ]
  },
  {
   "cell_type": "code",
   "execution_count": 7,
   "id": "f091adc9",
   "metadata": {},
   "outputs": [],
   "source": [
    "label_names = ['0_dog', '1_bird', '2_wheeled vehicle', '3_reptile', '4_carnivore', '5_insect', '6_musical instrument', '7_primate', '8_fish']"
   ]
  },
  {
   "cell_type": "code",
   "execution_count": 23,
   "id": "828a683c",
   "metadata": {},
   "outputs": [],
   "source": [
    "all_acts, orig_hits, fg_hits, bg_hits, total = get_intermediate_acts(model, normalizer, orig_loader, activation, label_names)"
   ]
  },
  {
   "cell_type": "code",
   "execution_count": 9,
   "id": "4944fac9",
   "metadata": {},
   "outputs": [],
   "source": [
    "import pickle\n",
    "# with open('/cmlscratch/sriramb/cnn_activations.pkl', 'wb') as fp:\n",
    "#     pickle.dump((dict(all_acts), orig_hits, fg_hits, bg_hits, total), fp)\n",
    "with open('/cmlscratch/sriramb/cnn_activations.pkl', 'rb') as fp:\n",
    "    all_acts, orig_hits, fg_hits, bg_hits, total = pickle.load(fp)"
   ]
  },
  {
   "cell_type": "code",
   "execution_count": 16,
   "id": "66e1fb32",
   "metadata": {},
   "outputs": [],
   "source": [
    "orig_hits, fg_hits, bg_hits, total = np.array(orig_hits), np.array(fg_hits), np.array(bg_hits), np.array(total)"
   ]
  },
  {
   "cell_type": "code",
   "execution_count": 18,
   "id": "1ccf57db",
   "metadata": {},
   "outputs": [
    {
     "data": {
      "text/plain": [
       "array([0.87333333, 0.57555556, 0.18222222, 0.50222222, 0.71111111,\n",
       "       0.01555556, 0.01333333, 0.80888889, 0.13333333])"
      ]
     },
     "execution_count": 18,
     "metadata": {},
     "output_type": "execute_result"
    }
   ],
   "source": [
    "fg_hits/total - bg_hits/total"
   ]
  },
  {
   "cell_type": "code",
   "execution_count": 153,
   "id": "64029525",
   "metadata": {},
   "outputs": [],
   "source": [
    "def proj_on_subspace(x, Y):\n",
    "    Y = Y/Y.norm(dim=-1, keepdim=True)\n",
    "    x = x/x.norm(dim=-1, keepdim=True)\n",
    "    return Y@x\n",
    "\n",
    "def gram_schmidt(X):\n",
    "    '''\n",
    "    X: (D, N)\n",
    "    Q: (D, min(D, N))\n",
    "    '''\n",
    "    Q, R = torch.linalg.qr(X)\n",
    "    return Q\n",
    "\n",
    "def subspace_intersection(X_core, X_spur):\n",
    "    X_core = gram_schmidt(X_core)\n",
    "    X_spur_on_core = X_spur@(X_core.T@X_core)\n",
    "    X_spur_not_core = X_spur - X_spur_on_core\n",
    "    X_spur_not_core = gram_schmidt(X_spur_not_core)\n",
    "    return X_core, X_spur_on_core, X_spur_not_core\n"
   ]
  },
  {
   "cell_type": "code",
   "execution_count": 156,
   "id": "ffeb2705",
   "metadata": {},
   "outputs": [
    {
     "data": {
      "text/plain": [
       "tensor([[1., 0., 0.],\n",
       "        [-0., 1., 0.],\n",
       "        [-0., -0., 1.]])"
      ]
     },
     "execution_count": 156,
     "metadata": {},
     "output_type": "execute_result"
    }
   ],
   "source": [
    "topk = 3\n",
    "for i in range(9):\n",
    "    fg_acts = all_acts[i][:,2].squeeze()\n",
    "    bg_acts = all_acts[i][:,1].squeeze()\n",
    "    fg_means = fg_acts.mean(dim=0)\n",
    "    bg_means = bg_acts.mean(dim=0)\n",
    "    fg_eigvecs, fg_eigvals = torch.lobpcg(torch.cov(fg_acts.transpose(0,1)), k=20)\n",
    "    bg_eigvecs, bg_eigvals = torch.lobpcg(torch.cov(bg_acts.transpose(0,1)), k=20)\n",
    "    fg_bases = torch.cat((fg_means, fg_eigvecs[:topk]), dim=0)\n",
    "    bg_bases = torch.cat((bg_means, bg_eigvecs[:topk]), dim=0)\n",
    "    X_core, X_spur_on_core, X_spur_not_core = subspace_intersection(fg_bases, bg_bases)\n",
    "    W[i] = W[i] - W[i][None,:]@X_spur_not_core@X_spur_not_core.transpose(0,1)"
   ]
  },
  {
   "cell_type": "code",
   "execution_count": 41,
   "id": "56f0b17b",
   "metadata": {},
   "outputs": [],
   "source": [
    "def norm(x):\n",
    "    if len(x) > 1:\n",
    "        x = x - x.mean(dim=0, keepdim=True)\n",
    "    return x/(x.norm(dim=-1, keepdim=True)+1e-8)\n",
    "\n",
    "def formt(m, s):\n",
    "    if s.isnan():\n",
    "        return f'{m}'\n",
    "    return f'{(m-s).item():.4f} to {(m+s).item():.4f}'"
   ]
  },
  {
   "cell_type": "code",
   "execution_count": 47,
   "id": "3c1f0cb0",
   "metadata": {},
   "outputs": [
    {
     "name": "stdout",
     "output_type": "stream",
     "text": [
      "\n",
      "        0.09228075295686722 0.07021445780992508\n",
      "    \n",
      "\n",
      "        0.09317027032375336 0.07988784462213516\n",
      "    \n",
      "\n",
      "        0.10053576529026031 0.08723432570695877\n",
      "    \n",
      "\n",
      "        0.11255035549402237 0.09857594221830368\n",
      "    \n",
      "\n",
      "        0.10635022819042206 0.0765133649110794\n",
      "    \n",
      "\n",
      "        0.09958212822675705 0.0812973827123642\n",
      "    \n",
      "\n",
      "        0.12768259644508362 0.11645633727312088\n",
      "    \n",
      "\n",
      "        0.10658541321754456 0.07435311377048492\n",
      "    \n",
      "\n",
      "        0.10775458812713623 0.09488870203495026\n",
      "    \n"
     ]
    }
   ],
   "source": [
    "W = model.fc.weight.data\n",
    "acts = all_acts['avgpool']\n",
    "\n",
    "for i in range(9):\n",
    "    w = W[i]/W[i].norm()\n",
    "    o = acts[i][:,0].squeeze()#.mean(0, keepdim=True)#/(all_acts[i][:,0].squeeze().norm(dim=-1, keepdim=True) + 1e-8)\n",
    "    a = acts[i][:,2].squeeze()#.mean(0, keepdim=True)#/(all_acts[i][:,2].squeeze().norm(dim=-1, keepdim=True) + 1e-8)\n",
    "    b = acts[i][:,1].squeeze()#.mean(0, keepdim=True)#/(all_acts[i][:,1].squeeze().norm(dim=-1, keepdim=True) + 1e-8)\n",
    "#     rand_inds = torch.randperm(a.shape[0])\n",
    "#     a = a[rand_inds]\n",
    "    m = (~b.isnan()[:,0]) & (~a.isnan()[:,0])\n",
    "    a = a[m]\n",
    "    b = b[m]\n",
    "    o = o[m]\n",
    "    print(f'''\n",
    "        {a.mean(1).std()} {b.mean(1).std()}\n",
    "    '''\n",
    "    )\n",
    "#     print(f'''\n",
    "#         Class {label_names[i]}\n",
    "#           w.orig: {formt((w*o).sum(dim=-1).mean(), (w*o).sum(dim=-1).std())}, acc: {orig_hits[i]/450}\n",
    "#           w.fg: {formt((w*a).sum(dim=-1).mean(), (w*a).sum(dim=-1).std())}, acc: {fg_hits[i]/450}\n",
    "#           w.bg: {formt((w*b).sum(dim=-1).mean(), (w*b).sum(dim=-1).std())}, acc: {bg_hits[i]/450}\n",
    "#           fg.bg: {formt((norm(a)*norm(b)).sum(dim=-1).mean(), (norm(a)*norm(b)).sum(dim=-1).std())} \n",
    "#           '''\n",
    "#          )\n"
   ]
  },
  {
   "cell_type": "code",
   "execution_count": 144,
   "id": "420b75f9",
   "metadata": {
    "scrolled": true
   },
   "outputs": [
    {
     "data": {
      "text/plain": [
       "torch.Size([450, 2048])"
      ]
     },
     "execution_count": 144,
     "metadata": {},
     "output_type": "execute_result"
    }
   ],
   "source": []
  },
  {
   "cell_type": "code",
   "execution_count": 145,
   "id": "d2f514aa",
   "metadata": {},
   "outputs": [],
   "source": [
    "fg_eigvals, fg_eigvecs = torch.lobpcg(torch.cov(all_acts[0].squeeze()[:,2].transpose(0,1)), k=20)\n",
    "bg_eigvals, bg_eigvecs = torch.lobpcg(torch.cov(all_acts[0].squeeze()[:,1].transpose(0,1)), k=20)"
   ]
  },
  {
   "cell_type": "code",
   "execution_count": 149,
   "id": "a67d6af2",
   "metadata": {},
   "outputs": [],
   "source": [
    "fg_mean = all_acts[0].squeeze()[:,2].mean(0)\n",
    "bg_mean = all_acts[0].squeeze()[:,1].mean(0)"
   ]
  },
  {
   "cell_type": "code",
   "execution_count": 150,
   "id": "5ba21282",
   "metadata": {},
   "outputs": [
    {
     "data": {
      "text/plain": [
       "tensor(0.7157)"
      ]
     },
     "execution_count": 150,
     "metadata": {},
     "output_type": "execute_result"
    }
   ],
   "source": [
    "(fg_mean*bg_mean).sum(dim=-1)/(fg_mean.norm(dim=-1)*bg_mean.norm(dim=-1,))"
   ]
  }
 ],
 "metadata": {
  "kernelspec": {
   "display_name": "Python 3 (ipykernel)",
   "language": "python",
   "name": "python3"
  },
  "language_info": {
   "codemirror_mode": {
    "name": "ipython",
    "version": 3
   },
   "file_extension": ".py",
   "mimetype": "text/x-python",
   "name": "python",
   "nbconvert_exporter": "python",
   "pygments_lexer": "ipython3",
   "version": "3.11.2"
  }
 },
 "nbformat": 4,
 "nbformat_minor": 5
}
